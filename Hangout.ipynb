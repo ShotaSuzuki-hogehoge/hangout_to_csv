{
  "nbformat": 4,
  "nbformat_minor": 0,
  "metadata": {
    "colab": {
      "name": "Hangout.ipynb",
      "provenance": [],
      "collapsed_sections": [],
      "toc_visible": true,
      "mount_file_id": "1ZyXNgc6ErtS3vuMic9b5oJMarKd2B9xo",
      "authorship_tag": "ABX9TyOGjn66BN1L3AkbunSOKksu",
      "include_colab_link": true
    },
    "kernelspec": {
      "name": "python3",
      "display_name": "Python 3"
    }
  },
  "cells": [
    {
      "cell_type": "markdown",
      "metadata": {
        "id": "view-in-github",
        "colab_type": "text"
      },
      "source": [
        "<a href=\"https://colab.research.google.com/github/ShotaSuzuki-hogehoge/hangout_to_csv/blob/master/Hangout.ipynb\" target=\"_parent\"><img src=\"https://colab.research.google.com/assets/colab-badge.svg\" alt=\"Open In Colab\"/></a>"
      ]
    },
    {
      "cell_type": "markdown",
      "metadata": {
        "id": "xtY9UUK_7XoR"
      },
      "source": [
        "# Google hangoutの履歴（JSON）を加工してCSVへ保存する\n"
      ]
    },
    {
      "cell_type": "markdown",
      "metadata": {
        "id": "BLfnioG4EO-a"
      },
      "source": [
        "## How to use this program.\n",
        "1.   下記よりデータ（JSON）を入手\n",
        "（https://takeout.google.com/settings/takeout）\n",
        "2.   GoogleDriveへデータを格納\n",
        "3.   Hangout_Converter(LOAD_FILE_PATH)でロード\n",
        "4.   Check_Conversation_Number()でどの会話を吐き出すかを確認\n",
        "5.   Save_To_CSV(CONVERSATION_NUMBER, SAVE_FILE_PATH)でセーブ\n",
        "6.   GoogleDriveへCSVデータが保存される\n",
        "\n",
        "*   発言者はGAIA IDで記載"
      ]
    },
    {
      "cell_type": "code",
      "metadata": {
        "id": "RRYERRYg517C"
      },
      "source": [
        "import json\n",
        "import pandas as pd\n",
        "\n",
        "\"\"\"\n",
        "LOAD_FILE_PATH：元のJSONファイルのパス\n",
        "SAVE_FILE_PATH：保存するCSVファイルのパス\n",
        "CONVERSATION_NUMBER：どのハングアウトルームを書き出すか\n",
        "（どれがどのチャットルームかはprintで確認して！）\n",
        "\"\"\"\n",
        "\n",
        "LOAD_FILE_PATH = \"./drive/My Drive/SourceData/Hangout/Hangouts.json\"\n",
        "SAVE_FILE_PATH = \"./drive/My Drive/SourceData/Hangout/hangout_sort.csv\"\n",
        "CONVERSATION_NUMBER = 7\n",
        "\n",
        "class Hangout_Converter:\n",
        "  def __init__(self, LFP):\n",
        "    self.d = {}\n",
        "    with open(LFP, mode=\"r\") as f:\n",
        "      self.d = json.load(f)  \n",
        "  def Check_Conversation_Number(self):\n",
        "    print(\"ALL Conversations are below.\")\n",
        "    for CVS in range(len(self.d['conversations'])):\n",
        "      message = [text['text'] for events in self.d['conversations'][CVS]['events'] if 'chat_message' in events.keys() and 'segment' in events['chat_message']['message_content'].keys() for text in events['chat_message']['message_content']['segment'] if text['type'] == \"TEXT\"]\n",
        "      print(\"(CONVERSATION_NUMBER, latest message) = (\", CVS,\", \", message[-1], \")\")\n",
        "  def Save_To_CSV(self, CVN, SFP):\n",
        "    \"\"\"\n",
        "    #----------内包表現確認用ここから----------\n",
        "    for events in d['conversations'][1]['events']:\n",
        "      if 'chat_message' in events.keys():\n",
        "        for text in events['chat_message']['message_content']['segment']:\n",
        "          if text['type'] == \"TEXT\":\n",
        "            print(events['timestamp'])\n",
        "    #------------------------------------------\n",
        "    \"\"\"\n",
        "    #dataframeに入れる用のリストを作成\n",
        "    time_stamp = [events['timestamp'] for events in self.d['conversations'][CVN]['events'] if 'chat_message' in events.keys() and 'segment' in events['chat_message']['message_content'].keys() for text in events['chat_message']['message_content']['segment'] if text['type'] == \"TEXT\"]\n",
        "    gaia_id = [events['sender_id']['gaia_id'] for events in self.d['conversations'][CVN]['events'] if 'chat_message' in events.keys() and 'segment' in events['chat_message']['message_content'].keys() for text in events['chat_message']['message_content']['segment'] if text['type'] == \"TEXT\"]\n",
        "    message = [text['text'] for events in self.d['conversations'][CVN]['events'] if 'chat_message' in events.keys() and 'segment' in events['chat_message']['message_content'].keys() for text in events['chat_message']['message_content']['segment'] if text['type'] == \"TEXT\"]\n",
        "\n",
        "    #time_stampがstringで格納されるが、stringだとsort_valuesができないのでintに変換\n",
        "    time_stamp = [(s) for s in time_stamp]\n",
        "\n",
        "    #データフレームを作成\n",
        "    df = pd.DataFrame({'time_stamp': time_stamp, 'gaia_id': gaia_id, 'message': message})\n",
        "\n",
        "    #time_stanpでソートしてインデックスを振りなおす（下記のはまった点を参照）\n",
        "    df.sort_values('time_stamp', inplace=True)\n",
        "    df.reset_index(inplace=True, drop=True)\n",
        "\n",
        "    #ファイルセーブ\n",
        "    df.to_csv(SFP, encoding='utf_8_sig')\n",
        "    print(\"-----☆☆☆Complete!(Conversation Number is \", CONVERSATION_NUMBER, \".)☆☆☆----- \\n(\", SFP, \")\")\n",
        "\n",
        "\n",
        "HOC = Hangout_Converter(LOAD_FILE_PATH)               #ファイルロード\n",
        "HOC.Check_Conversation_Number()                       #どのハングアウトをcsv出力するか確認\n",
        "HOC.Save_To_CSV(CONVERSATION_NUMBER, SAVE_FILE_PATH)  #コンバートしてセーブ\n"
      ],
      "execution_count": null,
      "outputs": []
    },
    {
      "cell_type": "markdown",
      "metadata": {
        "id": "iIuLYT2-Bgg9"
      },
      "source": [
        "##Pitfalls\n",
        "\n",
        "【問題点】\n",
        "リストのサフィックスとタイムスタンプがリニアじゃないきがする。。。\n",
        "\n",
        "【調査】\n",
        "やっぱり横軸リニア、縦軸時間でデータとってみるとやっぱり途中で断絶してた。。。\n",
        "\n",
        "なんでかはわからないがリストのサフィックスとタイムスタンプが単調に増加しない（仕様か？）\n",
        "\n",
        "【対策】\n",
        "タイムスタンプでソートするしかないでしょ。。。"
      ]
    },
    {
      "cell_type": "markdown",
      "metadata": {
        "id": "zqQpY8qxBU-P"
      },
      "source": [
        "![image.png](data:image/png;base64,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)"
      ]
    }
  ]
}